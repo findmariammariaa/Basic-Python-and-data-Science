{
  "nbformat": 4,
  "nbformat_minor": 0,
  "metadata": {
    "colab": {
      "provenance": [],
      "include_colab_link": true
    },
    "kernelspec": {
      "name": "python3",
      "display_name": "Python 3"
    },
    "language_info": {
      "name": "python"
    }
  },
  "cells": [
    {
      "cell_type": "markdown",
      "metadata": {
        "id": "view-in-github",
        "colab_type": "text"
      },
      "source": [
        "<a href=\"https://colab.research.google.com/github/findmariammariaa/Basic-Python-and-data-Science/blob/main/Maria_Akter_Mariam.ipynb\" target=\"_parent\"><img src=\"https://colab.research.google.com/assets/colab-badge.svg\" alt=\"Open In Colab\"/></a>"
      ]
    },
    {
      "cell_type": "markdown",
      "source": [
        "#Short QUESTIONS and ANSWERS\n",
        "\n",
        "---\n",
        "\n",
        "**Q1**: Create a DataFrame from a dictionary with two columns, `'Name'` and `'Age'`, where `'Name'` contains `[\"Alice\", \"Bob\"]` and `'Age'` contains `[25, 30]`.\n",
        "\n",
        "**A1**:\n",
        "```python\n",
        "import pandas as pd\n",
        "data = {'Name': [\"Alice\", \"Bob\"], 'Age': [25, 30]}\n",
        "df = pd.DataFrame(data)\n",
        "df\n",
        "```\n",
        "\n",
        "---\n",
        "\n",
        "**Q2**: What function would you use to display the first five rows of a DataFrame, and why is it useful?\n",
        "\n",
        "**A2**: `df.head()` – It shows the first five rows of a DataFrame, helping to quickly inspect the data's structure and content.\n",
        "\n",
        "---\n",
        "\n",
        "**Q3**: How can you check for missing values in a DataFrame?\n",
        "\n",
        "**A3**: `df.isnull()` – It checks for missing values in a DataFrame, returning a DataFrame of the same shape with `True` for missing values.\n",
        "\n",
        "---\n",
        "\n",
        "**Q4**: Describe how to filter rows in a DataFrame based on a condition in one of its columns.\n",
        "\n",
        "**A4**: Use conditional indexing, e.g., `df[df['column'] == value]`.\n",
        "\n",
        "---\n",
        "\n",
        "**Q5**: What method would you use to remove duplicate rows in a DataFrame?\n",
        "\n",
        "**A5**: `df.drop_duplicates()` – It removes duplicate rows from a DataFrame.\n",
        "\n",
        "---\n",
        "\n",
        "**Q6**: What is the purpose of the merge function in Pandas?\n",
        "\n",
        "**A6**: The `merge()` function joins two DataFrames based on common columns or indices, allowing for relational data manipulation.\n",
        "\n",
        "---\n",
        "\n",
        "**Q7**: How can you sort a DataFrame by multiple columns?\n",
        "\n",
        "**A7**: Use `df.sort_values(by=['col1', 'col2'])`.\n",
        "\n",
        "---\n",
        "\n",
        "**Q8**: How do Pandas represent missing data in numeric and non-numeric data types?\n",
        "\n",
        "**A8**: Pandas represents missing data as `NaN` for both numeric and non-numeric data types.\n",
        "\n",
        "---\n",
        "\n",
        "**Q9**: Provide a code to check for missing values in each column of a DataFrame.\n",
        "\n",
        "**A9**:\n",
        "```python\n",
        "df.isnull().sum()\n",
        "```\n",
        "\n",
        "---\n",
        "\n",
        "**Q10**: What does the `fillna()` function do, and why is it useful? Provide a code example.\n",
        "\n",
        "**A10**: `fillna()` fills missing values in a DataFrame, allowing you to replace `NaN` with a specified value.\n",
        "\n",
        "Example:\n",
        "```python\n",
        "df.fillna(0)\n",
        "```\n",
        "\n",
        "---\n",
        "\n",
        "**Q11**: Describe how the `dropna()` method works in Pandas.\n",
        "\n",
        "**A11**: `dropna()` removes rows (or columns) with missing values, helping clean incomplete data.\n",
        "\n",
        "---\n",
        "\n",
        "**Q12**: Describe 'ffill' or 'bfill' method.\n",
        "\n",
        "**A12**: `ffill` (forward fill) fills missing values with the last valid value, and `bfill` (backward fill) fills with the next valid value.\n",
        "\n",
        "---\n",
        "\n",
        "**Q13**: Write a code using Pandas to replace all `NaN` values in a DataFrame with zeros.\n",
        "\n",
        "**A13**:\n",
        "```python\n",
        "df.fillna(0, inplace=True)\n",
        "```\n",
        "\n",
        "---\n",
        "\n",
        "**Q14**: What is the purpose of the `pd.concat()` function in Pandas?\n",
        "\n",
        "**A14**: `pd.concat()` combines multiple DataFrames along a specified axis (rows or columns).\n",
        "\n",
        "---\n",
        "\n",
        "**Q15**: How do you concatenate two DataFrames `df1` and `df2` along rows? Provide code.\n",
        "\n",
        "**A15**:\n",
        "```python\n",
        "pd.concat([df1, df2], axis=0)\n",
        "```\n",
        "\n",
        "---\n",
        "\n",
        "**Q16**: What parameter would you use in `pd.concat()` to ignore index values and create a new default integer index?\n",
        "\n",
        "**A16**: `ignore_index=True`\n",
        "\n",
        "---\n",
        "\n",
        "**Q17**: Describe how to concatenate DataFrames `df1` and `df2` along columns.\n",
        "\n",
        "**A17**:\n",
        "```python\n",
        "pd.concat([df1, df2], axis=1)\n",
        "```\n",
        "\n",
        "---\n",
        "\n",
        "**Q18**: How can you perform an inner join using `pd.concat()`?\n",
        "\n",
        "**A18**: Use `pd.concat([df1, df2], join=\"inner\")`.\n",
        "\n",
        "---\n",
        "\n",
        "**Q19**: How would you merge two DataFrames, `df1` and `df2`, based on a common column `'ID'`?\n",
        "\n",
        "**A19**:\n",
        "```python\n",
        "df1.merge(df2, on='ID')\n",
        "```\n",
        "\n",
        "---\n",
        "\n",
        "**Q20**: What command is used to save a plot to a file in Matplotlib?\n",
        "\n",
        "**A20**: `plt.savefig('filename.png')`\n",
        "\n",
        "---\n",
        "\n",
        "**Q21**: How can you save a plot as a PNG file named `plot_image.png`?\n",
        "\n",
        "**A21**:\n",
        "```python\n",
        "plt.savefig('plot_image.png')\n",
        "```\n",
        "\n",
        "---\n",
        "\n",
        "**Q22**: Which argument can you use in `plt.savefig` to save a plot with a transparent background?\n",
        "\n",
        "**A22**: `transparent=True`\n",
        "\n",
        "---\n",
        "\n",
        "**Q23**: If you want to save a plot with a higher resolution, which parameter should you adjust in `plt.savefig`?\n",
        "\n",
        "**A23**: `dpi` – Set a higher `dpi` value for better resolution, e.g., `plt.savefig('filename.png', dpi=300)`.\n",
        "\n",
        "---\n",
        "\n",
        "**Q24**: Write the command to plot the points (1, 2), (2, 4), (3, 6) as a simple line plot.\n",
        "\n",
        "**A24**:\n",
        "```python\n",
        "plt.plot([1, 2, 3], [2, 4, 6])\n",
        "```\n",
        "\n",
        "---\n",
        "\n",
        "**Q25**: How can you display a line plot after plotting it with `plt.plot()`?\n",
        "\n",
        "**A25**: `plt.show()`\n",
        "\n",
        "---\n",
        "\n",
        "**Q26**: What does the command `plt.plot(x, y, 'o-')` do differently from `plt.plot(x, y)`?\n",
        "\n",
        "**A26**: `plt.plot(x, y, 'o-')` plots with both line and marker, creating a line with dots at each point.\n",
        "\n",
        "---\n",
        "\n",
        "**Q27**: How can you change the line color to red in a line plot?\n",
        "\n",
        "**A27**: Use `color='red'`, e.g., `plt.plot(x, y, color='red')`.\n",
        "\n",
        "---\n",
        "\n",
        "**Q28**: Which argument in `plt.plot()` allows you to set the line style as dashed?\n",
        "\n",
        "**A28**: `linestyle='--'`\n",
        "\n",
        "---\n",
        "\n",
        "**Q29**: Write a command to create a blue dotted line plot using `x` and `y` data.\n",
        "\n",
        "**A29**:\n",
        "```python\n",
        "plt.plot(x, y, color='blue', linestyle=':')\n",
        "```\n",
        "\n",
        "---\n",
        "\n",
        "**Q30**: How can you make the line width thicker in a plot?\n",
        "\n",
        "**A30**: Use `linewidth`, e.g., `plt.plot(x, y, linewidth=2)`\n",
        "\n",
        "---\n",
        "\n",
        "**Q31**: What command is used to set the x-axis range from 0 to 10 in a plot?\n",
        "\n",
        "**A31**: `plt.xlim(0, 10)`\n",
        "\n",
        "---\n",
        "\n",
        "**Q32**: How can you limit the y-axis between -5 and 5 in a plot?\n",
        "\n",
        "**A32**: `plt.ylim(-5, 5)`\n",
        "\n",
        "---\n",
        "\n",
        "**Q33**: Which command is used to add a title to a plot?\n",
        "\n",
        "**A33**: `plt.title(\"Your Title\")`\n",
        "\n",
        "---\n",
        "\n",
        "**Q34**: Write a command to label the x-axis as \"Time (s)\".\n",
        "\n",
        "**A34**: `plt.xlabel(\"Time (s)\")`\n",
        "\n",
        "---\n",
        "\n",
        "**Q35**: How do you add a legend to a plot?\n",
        "\n",
        "**A35**: `plt.legend()`"
      ],
      "metadata": {
        "id": "Mf5ObLPE-mg4"
      }
    },
    {
      "cell_type": "markdown",
      "source": [
        "### QUESTION 1(i): Combine Datasets with concat and append\n",
        "Given two small DataFrames with columns for name, age, and score, use pd.concat to combine these datasets.\n"
      ],
      "metadata": {
        "id": "G9N6_LXnfuF-"
      }
    },
    {
      "cell_type": "code",
      "source": [
        "\n",
        "import pandas as pd\n",
        "df1 = pd.DataFrame({'name': ['Alice', 'Bob'], 'age': [25, 30], 'score': [90, 85]})\n",
        "df2 = pd.DataFrame({'name': ['Charlie', 'David'], 'age': [29,40], 'score': [12,80]})\n",
        "df3 = pd.concat([df1, df2])\n",
        "print(df3)"
      ],
      "metadata": {
        "id": "lECOMcUUdvY6",
        "colab": {
          "base_uri": "https://localhost:8080/"
        },
        "outputId": "c7993b14-1cb4-43e3-c795-6ea74570f84b"
      },
      "execution_count": null,
      "outputs": [
        {
          "output_type": "stream",
          "name": "stdout",
          "text": [
            "      name  age  score\n",
            "0    Alice   25     90\n",
            "1      Bob   30     85\n",
            "0  Charlie   29     12\n",
            "1    David   40     80\n"
          ]
        }
      ]
    },
    {
      "cell_type": "markdown",
      "source": [
        "## Which method, concat or append, would you choose for combining a large number of DataFrames and why?\n",
        "\n",
        "For a large number of DataFrames, concat is generally preferred over repeatedly appending.\n",
        "Repeatedly appending creates a new DataFrame in each iteration, leading to significant performance overhead.\n",
        "pd.concat is designed to efficiently combine multiple DataFrames at once, providing better performance when dealing with a large number of them.\n"
      ],
      "metadata": {
        "id": "W6xhNhL1fTBh"
      }
    },
    {
      "cell_type": "markdown",
      "source": [
        "#QUESTION 1(ii): Concatenate NumPy Arrays\n",
        "\n",
        "\n",
        "*   Create two 1-dimensional NumPy arrays: array1 with values [1, 2, 3] and array2 with values [4, 5, 6].\n",
        "*   Use np.concatenate to combine them into a single array.\n"
      ],
      "metadata": {
        "id": "Qz7jTvkdglzd"
      }
    },
    {
      "cell_type": "code",
      "source": [
        "import numpy as np\n",
        "arr1 = np.array([1, 2, 3])\n",
        "arr2 = np.array([4, 5, 6])\n",
        "arr3 = np.concatenate((arr1, arr2))\n",
        "print(arr3)"
      ],
      "metadata": {
        "id": "UVe4Po5zk2xn",
        "colab": {
          "base_uri": "https://localhost:8080/"
        },
        "outputId": "836342eb-440d-44e9-e9ab-db849fdad0bf"
      },
      "execution_count": null,
      "outputs": [
        {
          "output_type": "stream",
          "name": "stdout",
          "text": [
            "[1 2 3 4 5 6]\n"
          ]
        }
      ]
    },
    {
      "cell_type": "markdown",
      "source": [
        "#QUESTION 1(iii): Concatenate with Different Join Types\n",
        "* Create two DataFrames: df1 with columns id, name, and score, and df2 with columns id, age, and city.\n",
        "* Use pd.concat with both inner and outer join types to combine these DataFrames based on the id column.\n",
        "\n"
      ],
      "metadata": {
        "id": "25GyvrVQwLCN"
      }
    },
    {
      "cell_type": "code",
      "source": [
        "import pandas as pd\n",
        "df1 = pd.DataFrame({'id':[1,2,3,4],'name':['Alice','Bob','Charlie','David'],'score':[25,30,35,40]})\n",
        "df2 = pd.DataFrame({'id':[1,3,4,9],'age':[25,30,35,40],'city':['sylhet','dhaka','comilla','rangpur']})\n",
        "df3 = pd.concat([df1,df2],join='inner')\n",
        "print(\"INNER\")\n",
        "print(df3)\n",
        "df4 = pd.concat([df1,df2],join='outer')\n",
        "print(\"OUTER\")\n",
        "print(df4)"
      ],
      "metadata": {
        "id": "KwA7Z6cXwqEZ",
        "colab": {
          "base_uri": "https://localhost:8080/"
        },
        "outputId": "b99eecae-c15e-4dba-cca2-8cbb58ae3fb0"
      },
      "execution_count": null,
      "outputs": [
        {
          "output_type": "stream",
          "name": "stdout",
          "text": [
            "INNER\n",
            "   id\n",
            "0   1\n",
            "1   2\n",
            "2   3\n",
            "3   4\n",
            "0   1\n",
            "1   3\n",
            "2   4\n",
            "3   9\n",
            "OUTER\n",
            "   id     name  score   age     city\n",
            "0   1    Alice   25.0   NaN      NaN\n",
            "1   2      Bob   30.0   NaN      NaN\n",
            "2   3  Charlie   35.0   NaN      NaN\n",
            "3   4    David   40.0   NaN      NaN\n",
            "0   1      NaN    NaN  25.0   sylhet\n",
            "1   3      NaN    NaN  30.0    dhaka\n",
            "2   4      NaN    NaN  35.0  comilla\n",
            "3   9      NaN    NaN  40.0  rangpur\n"
          ]
        }
      ]
    },
    {
      "cell_type": "markdown",
      "source": [
        "##Question: What’s the difference between inner and outer joins when using pd.concat?\n",
        "\n",
        "When using `pd.concat`, the `join` parameter determines how the DataFrames are combined, especially when they have different columns.\n",
        "\n",
        "*   **`join='outer'` (default):**  This performs a *full outer join*.  All rows from both DataFrames are included in the result. If a row in one DataFrame doesn't have a corresponding `id` in the other, the missing values for that row will be filled with `NaN`.  It's essentially a union of all rows.\n",
        "\n",
        "*   **`join='inner'`:** This performs an *inner join*. Only rows with matching `id` values in *both* DataFrames are included in the result.  Rows with `id` values that are present in one DataFrame but not the other are excluded. It's essentially an intersection of matching rows.\n"
      ],
      "metadata": {
        "id": "dXpIFYR2xh-3"
      }
    },
    {
      "cell_type": "markdown",
      "source": [
        "#Question 1(iv): Merge DataFrames\n",
        "* Given df1 and df2 from step 3, use pd.merge() to combine them on the id column.\n",
        "* Experiment with different how parameters (left, right, inner, outer) and briefly explain the output of each\n"
      ],
      "metadata": {
        "id": "jSpKnCjXyEct"
      }
    },
    {
      "cell_type": "code",
      "source": [
        "df5 = pd.merge(df1,df2,on='id')\n",
        "print(df5)\n",
        "\n",
        "df6 = pd.merge(df1,df2,on='id',how='left')\n",
        "print(\"LEFT\")\n",
        "print(df6)\n",
        "\n",
        "df7 = pd.merge(df1,df2,on='id',how='right')\n",
        "print(\"RIGHT\")\n",
        "print(df7)\n",
        "\n",
        "df8 = pd.merge(df1,df2,on='id',how='outer')\n",
        "print(\"OUTER\")\n",
        "print(df8)\n",
        "\n",
        "df8 = pd.merge(df1,df2,on='id',how='inner')\n",
        "print(\"INNER\")\n",
        "print(df8)"
      ],
      "metadata": {
        "id": "XPhk78GlyYV_",
        "colab": {
          "base_uri": "https://localhost:8080/"
        },
        "outputId": "7f21b378-5bd1-41de-9b18-50035d2b05e5"
      },
      "execution_count": null,
      "outputs": [
        {
          "output_type": "stream",
          "name": "stdout",
          "text": [
            "   id     name  score  age     city\n",
            "0   1    Alice     25   25   sylhet\n",
            "1   3  Charlie     35   30    dhaka\n",
            "2   4    David     40   35  comilla\n",
            "LEFT\n",
            "   id     name  score   age     city\n",
            "0   1    Alice     25  25.0   sylhet\n",
            "1   2      Bob     30   NaN      NaN\n",
            "2   3  Charlie     35  30.0    dhaka\n",
            "3   4    David     40  35.0  comilla\n",
            "RIGHT\n",
            "   id     name  score  age     city\n",
            "0   1    Alice   25.0   25   sylhet\n",
            "1   3  Charlie   35.0   30    dhaka\n",
            "2   4    David   40.0   35  comilla\n",
            "3   9      NaN    NaN   40  rangpur\n",
            "OUTER\n",
            "   id     name  score   age     city\n",
            "0   1    Alice   25.0  25.0   sylhet\n",
            "1   2      Bob   30.0   NaN      NaN\n",
            "2   3  Charlie   35.0  30.0    dhaka\n",
            "3   4    David   40.0  35.0  comilla\n",
            "4   9      NaN    NaN  40.0  rangpur\n",
            "INNER\n",
            "   id     name  score  age     city\n",
            "0   1    Alice     25   25   sylhet\n",
            "1   3  Charlie     35   30    dhaka\n",
            "2   4    David     40   35  comilla\n"
          ]
        }
      ]
    },
    {
      "cell_type": "markdown",
      "source": [
        "#Question 1(v): Groupby and Aggregate Data\n",
        "* Using a DataFrame representing sales data (columns: product, region, sales, and date), group the data by region and calculate:\n",
        " * The total sales for each region.\n",
        "  *The average sales for each product.\n"
      ],
      "metadata": {
        "id": "hQ5jts0ZyqVA"
      }
    },
    {
      "cell_type": "code",
      "source": [
        "import pandas as pd\n",
        "df1 = pd.DataFrame({'product':['A','B','C','D','E','F'],'region':['North','South','East','North','North','North'],'sales':[100,200,300,400,600,100],'date': ['January 27', 'July 20', 'September 30','March 2','January 2','March']})\n",
        "df2 = df1.groupby('region')['sales'].sum()\n",
        "print(df2)\n",
        "df3 = df1.groupby('product')['sales'].mean()\n",
        "print(df3)"
      ],
      "metadata": {
        "id": "hhitUMMky94x",
        "colab": {
          "base_uri": "https://localhost:8080/"
        },
        "outputId": "75b5a346-aebe-4162-81ab-bcd577f79589"
      },
      "execution_count": null,
      "outputs": [
        {
          "output_type": "stream",
          "name": "stdout",
          "text": [
            "region\n",
            "East      300\n",
            "North    1200\n",
            "South     200\n",
            "Name: sales, dtype: int64\n",
            "product\n",
            "A    100.0\n",
            "B    200.0\n",
            "C    300.0\n",
            "D    400.0\n",
            "E    600.0\n",
            "F    100.0\n",
            "Name: sales, dtype: float64\n"
          ]
        }
      ]
    },
    {
      "cell_type": "markdown",
      "source": [
        "## Question: Why might you use groupby when analyzing datasets with multiple categories?\n",
        "\n",
        "We would use the `groupby()` method in pandas when analyzing datasets with multiple categories to perform operations on subsets of your data based on those categories.  It allows you to split your data into groups, apply a function to each group independently, and then combine the results.  This is crucial for understanding how different categories within your data behave.\n",
        "\n"
      ],
      "metadata": {
        "id": "q_pTE25uzFkq"
      }
    },
    {
      "cell_type": "markdown",
      "source": [
        "#Question 1(vi): Query with DataFrame.query and eval\n",
        "* Using the sales data DataFrame, use query to find rows where sales are greater than a specified threshold (e.g., 1000).\n",
        "* Use eval to calculate the total sales of all products in a specific region.\n"
      ],
      "metadata": {
        "id": "LbCtbSmizjJ6"
      }
    },
    {
      "cell_type": "code",
      "source": [
        "threshold = 100\n",
        "df4 = df1[df1['sales'] > threshold]\n",
        "print(df4)\n",
        "\n",
        "df5 = df1[df1.eval('region==\"North\"')]['sales'].sum()\n",
        "print(df5)"
      ],
      "metadata": {
        "id": "HG9tt1w4zugQ",
        "colab": {
          "base_uri": "https://localhost:8080/"
        },
        "outputId": "eee66f9f-7022-4835-eafa-6fb1ddb392a9"
      },
      "execution_count": null,
      "outputs": [
        {
          "output_type": "stream",
          "name": "stdout",
          "text": [
            "  product region  sales          date\n",
            "1       B  South    200       July 20\n",
            "2       C   East    300  September 30\n",
            "3       D  North    400       March 2\n",
            "4       E  North    600     January 2\n",
            "1200\n"
          ]
        }
      ]
    },
    {
      "cell_type": "markdown",
      "source": [
        "#Question 2:\n",
        "##Generate Data:\n",
        "* Use np.linspace to create an array x of 100 values between 0 and 10.\n",
        "* Compute the sine (np.sin(x)) and cosine (np.cos(x)) of x.\n",
        "\n",
        "##Create a Figure with Subplots:\n",
        "* Create a figure with two subplots: one for a simple line plot and another for a scatter plot.\n",
        "\n",
        "##Line Plot Customizations:\n",
        "* In the first subplot, plot the sine function as a solid line and the cosine function as a dashed line.\n",
        "* Customize line colors (color='blue' for sine and color='orange' for cosine).\n",
        "* Set axes limits from 0 to 10 on the x-axis and -1.5 to 1.5 on the y-axis.\n",
        "* Add labels to the x-axis and y-axis, a title for the plot, and a legend for the sine and cosine curves.\n",
        "\n",
        "##Scatter Plot with Error Bars:\n",
        "* In the second subplot, plot a scatter plot of x vs. sin(x).\n",
        "* Add error bars to each data point using plt.errorbar. Use a random normal distribution to generate small errors (e.g., yerr=0.4).\n",
        "* Set a distinct color and shape (e.g., red squares) for the scatter plot.\n",
        "\n",
        "##Save the Figure:\n",
        "* Save the entire figure as a .png file with the filename trigonometric_plots.png.\n"
      ],
      "metadata": {
        "id": "MICvTQ_Sz0oh"
      }
    },
    {
      "cell_type": "code",
      "source": [
        "\n",
        "%matplotlib inline\n",
        "import matplotlib.pyplot as plt\n",
        "plt.style.use('classic')\n",
        "import numpy as np\n",
        "fig = plt.figure()\n",
        "x = np.linspace(0, 10, 80)\n",
        "y1 = np.sin(x)\n",
        "y2 = np.cos(x)\n",
        "\n",
        "plt.subplot(2,1,1)\n",
        "plt.plot(x, y1, linestyle='-',color='blue')\n",
        "plt.plot(x,y2, linestyle='--',color='orange')\n",
        "plt.xlim(0,10)\n",
        "plt.ylim(-1.5,1.5)\n",
        "plt.xlabel('x')\n",
        "plt.ylabel('y')\n",
        "plt.title('Sine and Cosine')\n",
        "plt.legend(['sin','cos'])\n",
        "\n",
        "plt.subplot(2,1,2)\n",
        "plt.plot(x,y1,'o',color='red')\n",
        "plt.errorbar(x,y1,yerr=0.4,fmt='.r')\n",
        "plt.show()\n",
        "\n",
        "fig.savefig('trigonometric_plots.png')\n"
      ],
      "metadata": {
        "id": "BulBOAkXYrce",
        "colab": {
          "base_uri": "https://localhost:8080/",
          "height": 452
        },
        "outputId": "55b5df4a-83ea-47ed-de28-188da7dff37e"
      },
      "execution_count": null,
      "outputs": [
        {
          "output_type": "display_data",
          "data": {
            "text/plain": [
              "<Figure size 640x480 with 2 Axes>"
            ],
            "image/png": "[encoded data removed]"
          },
          "metadata": {}
        }
      ]
    },
    {
      "cell_type": "markdown",
      "source": [
        "#Question 3(i): Data Loading and Handling Missing Values\n",
        "* Load the Iris dataset from Scikit-Learn.\n",
        "* **Simulate missing values:** Introduce a few missing values randomly into the dataset. For example, set 5 random entries in the sepal length and petal length columns to NaN.\n",
        "* **Handle missing data:** Use the mean of each column to fill in these missing values.\n"
      ],
      "metadata": {
        "id": "ph60Y54eAY_4"
      }
    },
    {
      "cell_type": "code",
      "source": [
        "from sklearn.datasets import load_iris\n",
        "import numpy as np\n",
        "import pandas as pd\n",
        "iris = load_iris()\n",
        "df  = pd.DataFrame(iris.data,columns=iris.feature_names)\n",
        "df['species'] = iris.target\n",
        "\n",
        "np.random.seed(0)\n",
        "missing = np.random.choice(df.index,size=5,replace=False)\n",
        "print(missing)\n",
        "df.loc[missing,'sepal length (cm)'] = np.nan\n",
        "df.loc[missing,'petal length (cm)'] = np.nan\n",
        "df.fillna(df.mean(),inplace=True)\n",
        "print(df)\n"
      ],
      "metadata": {
        "colab": {
          "base_uri": "https://localhost:8080/"
        },
        "id": "TBpIIWjWAhQ7",
        "outputId": "0756665b-7fd2-4064-a181-0dc0ad703b01"
      },
      "execution_count": null,
      "outputs": [
        {
          "output_type": "stream",
          "name": "stdout",
          "text": [
            "[114  62  33 107   7]\n",
            "     sepal length (cm)  sepal width (cm)  petal length (cm)  petal width (cm)  \\\n",
            "0                  5.1               3.5                1.4               0.2   \n",
            "1                  4.9               3.0                1.4               0.2   \n",
            "2                  4.7               3.2                1.3               0.2   \n",
            "3                  4.6               3.1                1.5               0.2   \n",
            "4                  5.0               3.6                1.4               0.2   \n",
            "..                 ...               ...                ...               ...   \n",
            "145                6.7               3.0                5.2               2.3   \n",
            "146                6.3               2.5                5.0               1.9   \n",
            "147                6.5               3.0                5.2               2.0   \n",
            "148                6.2               3.4                5.4               2.3   \n",
            "149                5.9               3.0                5.1               1.8   \n",
            "\n",
            "     species  \n",
            "0          0  \n",
            "1          0  \n",
            "2          0  \n",
            "3          0  \n",
            "4          0  \n",
            "..       ...  \n",
            "145        2  \n",
            "146        2  \n",
            "147        2  \n",
            "148        2  \n",
            "149        2  \n",
            "\n",
            "[150 rows x 5 columns]\n"
          ]
        }
      ]
    },
    {
      "cell_type": "markdown",
      "source": [
        "#QUESTION 3(ii):\n",
        "* Split the dataset into features (X) and target (y).\n",
        "* Implement K-Fold Cross-Validation with 5 folds using a Support Vector Machine (SVM) classifier.\n",
        "* Calculate evaluation metrics (accuracy, precision, recall, and F1 score) across all folds."
      ],
      "metadata": {
        "id": "yth5nyr-2E5i"
      }
    },
    {
      "cell_type": "code",
      "source": [
        "\n",
        "from sklearn.model_selection import KFold ,train_test_split, cross_val_score\n",
        "from sklearn.svm import SVC\n",
        "from sklearn.metrics import accuracy_score, precision_score, recall_score, f1_score\n",
        "\n",
        "X = df[iris.feature_names]\n",
        "y = df['species']\n",
        "\n",
        "X_train, X_test, y_train, y_test = train_test_split(X, y, test_size=0.2, random_state=42)\n",
        "model = SVC()\n",
        "model.fit(X_train,y_train)\n",
        "y_pred = model.predict(X_test)\n",
        "\n",
        "accuracy= accuracy_score(y_test, y_pred)\n",
        "precision = precision_score(y_test, y_pred, average='weighted')\n",
        "recall = recall_score(y_test, y_pred, average='weighted')\n",
        "f1 = f1_score(y_test, y_pred, average='weighted')\n",
        "\n",
        "print(\"Accuracy:\", accuracy)\n",
        "print(\"Precision:\", precision)\n",
        "print(\"Recall:\", recall)\n",
        "print(\"F1 Score:\", f1)\n",
        "\n",
        "ans = cross_val_score(model, X, y, cv=5, scoring= 'accuracy')\n",
        "print(\"Cross Validation Score:\", ans)\n"
      ],
      "metadata": {
        "id": "EOVd3B9cHuNT",
        "colab": {
          "base_uri": "https://localhost:8080/"
        },
        "outputId": "5f2615f2-ebd3-4570-8bc9-ef068498f114"
      },
      "execution_count": null,
      "outputs": [
        {
          "output_type": "stream",
          "name": "stdout",
          "text": [
            "Accuracy: 1.0\n",
            "Precision: 1.0\n",
            "Recall: 1.0\n",
            "F1 Score: 1.0\n",
            "Cross Validation Score: [0.9        0.93333333 0.93333333 0.9        1.        ]\n"
          ]
        }
      ]
    },
    {
      "cell_type": "markdown",
      "source": [
        "# Question 3(iii): Hyperparameter Tuning\n",
        "\n",
        "1. Tune hyperparameters (C, gamma, kernel) using GridSearchCV with Cross-Validation.\n",
        "\n",
        "2. Identify the best hyperparameters and save them for later use."
      ],
      "metadata": {
        "id": "IFvi76jx2ulj"
      }
    },
    {
      "cell_type": "code",
      "source": [
        "from sklearn.model_selection import GridSearchCV\n",
        "param_grid = {'C': [0.1,4],\n",
        "              'gamma': ['scale', 'auto'],\n",
        "              'kernel':['linear', 'poly']\n",
        "              }\n",
        "grid_search = GridSearchCV(SVC(), param_grid, cv=5, scoring='accuracy').fit(X_train, y_train)\n",
        "best_params = grid_search.best_params_\n",
        "best_score = grid_search.best_score_\n",
        "print(\"Best Hyperparameters:\", best_params)\n",
        "print(\"Best cross val score:\" ,best_score )"
      ],
      "metadata": {
        "id": "zwdIjEf550li",
        "colab": {
          "base_uri": "https://localhost:8080/"
        },
        "outputId": "86d1a812-fea2-4b48-8382-b5cbac56913b"
      },
      "execution_count": null,
      "outputs": [
        {
          "output_type": "stream",
          "name": "stdout",
          "text": [
            "Best Hyperparameters: {'C': 4, 'gamma': 'scale', 'kernel': 'linear'}\n",
            "Best cross val score: 0.9416666666666668\n"
          ]
        }
      ]
    },
    {
      "cell_type": "markdown",
      "source": [
        "#QUESTION 4:\n",
        "You have the following data on monthly rainfall (in millimeters) in your city for the first four months of the year:\n",
        "  * January: 78 mm\n",
        "  * February: 92 mm\n",
        "  * March: 56 mm\n",
        "  * April: 89 mm\n",
        "\n",
        "1.Using the data provided, create a Pandas Series and label each month accordingly.\n",
        "\n",
        "2.Select the rainfall data for February using the Series as if it were a dictionary.\n"
      ],
      "metadata": {
        "id": "iLPiSexJ51Sl"
      }
    },
    {
      "cell_type": "code",
      "source": [
        "import pandas as pd\n",
        "month = ['January','February','March','April']\n",
        "rainfall = [78,92,56,89]\n",
        "df = pd.Series(rainfall,index=month)\n",
        "print(df)\n",
        "print(df['February'])"
      ],
      "metadata": {
        "id": "JAbAKT806Zuh"
      },
      "execution_count": null,
      "outputs": []
    },
    {
      "cell_type": "markdown",
      "source": [
        "#QUESTION 5:\n",
        "Suppose you have a list of dictionaries where each dictionary represents a student's data in a class, including their 'Name,' 'Age,' and 'Score' on a recent exam:\n",
        "\n",
        "1.Construct a Pandas DataFrame using this list of dictionaries.\n",
        "\n",
        "2.Demonstrate how to select only the 'Score' column from this DataFrame as if it were a NumPy array.\n"
      ],
      "metadata": {
        "id": "fNxO38NE6cDY"
      }
    },
    {
      "cell_type": "code",
      "source": [
        "import pandas as pd\n",
        "import numpy as np\n",
        "data = [{'Name': 'Alice', 'Age': 20, 'Score': 85},\n",
        "        {'Name': 'Bob', 'Age': 21, 'Score': 92},\n",
        "        {'Name': 'Charlie', 'Age': 85, 'Score': 78}]\n",
        "df = pd.DataFrame(data)\n",
        "print(df)\n",
        "arr = np.array(df['Score'])\n",
        "print(arr)"
      ],
      "metadata": {
        "id": "zQenfXvD6tgL"
      },
      "execution_count": null,
      "outputs": []
    },
    {
      "cell_type": "markdown",
      "source": [
        "#QUESTION 6:\n",
        "Imagine a store that sells different products. Each product has information on its 'Product Name,' 'Price' (in dollars), and 'Stock' (units available). Create a DataFrame with the following data:\n",
        "\n",
        "![Screenshot 2024-11-03 224706.png](data:image/png;base64,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)\n",
        "\n",
        "\n",
        "* Write the code to create this DataFrame.\n",
        "* Show how you would access the 'Price' for 'Notebook' using DataFrame indexing, treating it like a two-dimensional array.\n"
      ],
      "metadata": {
        "id": "AN4m2VZU6uLQ"
      }
    },
    {
      "cell_type": "code",
      "source": [
        "import pandas as pd\n",
        "product_name = ['Pen', 'Notebook', 'Eraser']\n",
        "price = [1.5, 3.0, 0.5]\n",
        "stock = [100,50,200]\n",
        "data = {'Product Name': product_name, 'Price': price, 'Stock': stock}\n",
        "df = pd.DataFrame(data)\n",
        "print(df)\n",
        "df.set_index('Product Name', inplace=True)\n",
        "print(df)\n",
        "price_notebook = df.loc['Notebook', 'Price']\n",
        "print(price_notebook)"
      ],
      "metadata": {
        "id": "phY-GNCU71s1"
      },
      "execution_count": null,
      "outputs": []
    },
    {
      "cell_type": "markdown",
      "source": [
        "#Question 7:\n",
        "Consider a dataset that tracks employee information, including their names, departments, and years of experience. Some of the values for 'Years of Experience' are missing. The data is given as follows:\n",
        "\n",
        "```\n",
        "import pandas as pd\n",
        "#Employee data with missing values\n",
        "data = {\n",
        "    'Name': ['Alice', 'Bob', 'Charlie', 'David', 'Eva'],\n",
        "    'Department': ['HR', 'IT', 'Finance', None, 'Marketing'],\n",
        "    'Years of Experience': [5, None, 8, 6, None]\n",
        "}\n",
        "employees_df = pd.DataFrame(data)\n",
        "```\n",
        "\n",
        "* Write code to detect the missing values in each column.\n",
        "* Drop rows where the 'Department' data is missing.\n",
        "* Fill in missing values in the 'Years of Experience' column with the average years of experience from the available data.\n",
        "\n"
      ],
      "metadata": {
        "id": "pOrOVByG74Ds"
      }
    },
    {
      "cell_type": "code",
      "source": [
        "import pandas as pd\n",
        "# Employee data with missing values\n",
        "data = {\n",
        "    'Name': ['Alice', 'Bob', 'Charlie', 'David', 'Eva'],\n",
        "    'Department': ['HR', 'IT', 'Finance', None, 'Marketing'],\n",
        "    'Years of Experience': [5, None, 8, 6, None]\n",
        "}\n",
        "employees_df = pd.DataFrame(data)\n",
        "print(employees_df)\n",
        "#1\n",
        "print(employees_df.isnull())\n",
        "#2\n",
        "employees_df.dropna(subset=['Department'])\n",
        "print(employees_df)\n",
        "#3\n",
        "avg_years_experience = employees_df['Years of Experience'].mean()\n",
        "employees_df['Years of Experience'].fillna(avg_years_experience)"
      ],
      "metadata": {
        "id": "zRfTOrSN8jcG"
      },
      "execution_count": null,
      "outputs": []
    },
    {
      "cell_type": "markdown",
      "source": [
        "#Question 8:\n",
        "You are working with a dataset of product information where some entries are missing. The data includes 'Product Name,' 'Price,' and 'Discount' percentage. Some products do not have a 'Price' listed, and some are missing the 'Discount' percentage. The data is given below:\n",
        "\n",
        "\n",
        "```\n",
        "import pandas as pd\n",
        "# Product data with missing values\n",
        "data = {\n",
        "    'Product Name': ['Pen', 'Notebook', 'Eraser', 'Marker', 'Highlighter'],\n",
        "    'Price': [1.5, None, 0.5, 1.2, None],\n",
        "    'Discount': [10, 5, None, 15, None]\n",
        "    }\n",
        "products_df = pd.DataFrame(data)\n",
        "```\n",
        "\n",
        "1.Detect and display the count of missing values in each column.\n",
        "\n",
        "2.Use an appropriate method to fill in the missing 'Price' values with a constant value of 1.0.\n",
        "\n",
        "3.Fill in the missing 'Discount' values with the median discount from the available data.\n"
      ],
      "metadata": {
        "id": "ty40NRiM8j83"
      }
    },
    {
      "cell_type": "code",
      "source": [
        "import pandas as pd\n",
        "# Product data with missing values\n",
        "data = {\n",
        "    'Product Name': ['Pen', 'Notebook', 'Eraser', 'Marker', 'Highlighter'],\n",
        "    'Price': [1.5, None, 0.5, 1.2, None],\n",
        "    'Discount': [10, 5, None, 15, None]\n",
        "    }\n",
        "products_df = pd.DataFrame(data)\n",
        "print(products_df)\n",
        "#1\n",
        "print(products_df.isnull().sum())\n",
        "#2\n",
        "products_df['Price'].fillna(1.0)\n",
        "print(products_df)\n",
        "#3\n",
        "median_discount = products_df['Discount'].median()\n",
        "products_df['Discount'].fillna(median_discount)\n",
        "print(products_df)"
      ],
      "metadata": {
        "id": "snoaSaNG9P_Z"
      },
      "execution_count": null,
      "outputs": []
    },
    {
      "cell_type": "markdown",
      "source": [
        "# Question 9:\n",
        "You have been given data about a small grocery store's sales figures across different categories. The data shows the number of units sold per item category, average unit price, and customer ratings. Use this data to create visualizations that represent various aspects of the sales and customer ratings.\n",
        "\n",
        "```\n",
        "# Sales data\n",
        "categories = ['Fruits', 'Vegetables', 'Dairy', 'Bakery', 'Snacks']\n",
        "units_sold = [120, 200, 150, 90, 130]\n",
        "avg_price = [2.5, 1.5, 2.0, 1.8, 3.0]  # in dollars\n",
        "customer_ratings = [4.5, 4.2, 4.0, 3.8, 4.1]\n",
        "\n",
        "```\n",
        "\n",
        "Using the data above, complete the following tasks:\n",
        "* **Bar Plot:** Plot a bar chart showing units sold for each category. Add a title, x-axis label (\"Categories\"), and y-axis label (\"Units Sold\"). Also, include a legend if needed.\n",
        "* **Scatter Plot:** Create a scatter plot of units_sold (on the x-axis) vs. avg_price (on the y-axis). Add a title and labels for both axes.\n",
        "* **Histogram:** Plot a histogram of customer_ratings to see the distribution of ratings. Add a title and label the x-axis as \"Customer Ratings\" and the y-axis as \"Frequency\".\n",
        "* **Pie Chart:** Create a pie chart to show the percentage of units sold by category. Add a title and a legend showing the category names.\n",
        "* **Box Plot:** Plot a box plot to visualize the spread and central tendency of customer_ratings. Add a title.\n",
        "\n",
        "Use appropriate colors, and ensure each plot has a title and labeled axes (where applicable).\n"
      ],
      "metadata": {
        "id": "FTtvo57R9Qrp"
      }
    },
    {
      "cell_type": "code",
      "source": [
        "import pandas as pd\n",
        "%matplotlib inline\n",
        "import matplotlib.pyplot as plt\n",
        "\n",
        "# Sales data\n",
        "categories = ['Fruits', 'Vegetables', 'Dairy', 'Bakery', 'Snacks']\n",
        "units_sold = [120, 200, 150, 90, 130]\n",
        "avg_price = [2.5, 1.5, 2.0, 1.8, 3.0]  # in dollars\n",
        "customer_ratings = [4.5, 4.2, 4.0, 3.8, 4.1]\n",
        "colours = ['red','green','blue','yellow','orange']\n",
        "\n",
        "fig = plt.figure()\n",
        "\n",
        "bar = plt.bar(categories, units_sold, color=colours)\n",
        "plt.xlabel('Categories')\n",
        "plt.ylabel('Units Sold')\n",
        "plt.title('Units Sold by Category')\n",
        "plt.legend(bar,categories)\n",
        "plt.show()\n",
        "\n",
        "\n"
      ],
      "metadata": {
        "id": "RJiHl1fulz-H"
      },
      "execution_count": null,
      "outputs": []
    },
    {
      "cell_type": "code",
      "source": [
        "\n",
        "scatter = plt.scatter(units_sold, avg_price, color='blue',marker ='s')\n",
        "plt.xlabel('Units Sold')\n",
        "plt.ylabel('Average Price')\n",
        "plt.title('Units Sold vs. Average Price')\n",
        "plt.show()"
      ],
      "metadata": {
        "id": "uysykwsgq9lg"
      },
      "execution_count": null,
      "outputs": []
    },
    {
      "cell_type": "code",
      "source": [
        "histo  = plt.hist(customer_ratings, color='brown')\n",
        "plt.xlabel('Customer Ratings')\n",
        "plt.ylabel('Frequency')\n",
        "plt.title('Distribution of Customer Ratings')\n",
        "plt.show()"
      ],
      "metadata": {
        "id": "thy0QQ1Sq5PX"
      },
      "execution_count": null,
      "outputs": []
    },
    {
      "cell_type": "code",
      "source": [
        "pie = plt.pie(units_sold, labels=categories, autopct='%1.2f%%')\n",
        "plt.title('Units Sold by Category')\n",
        "plt.show()"
      ],
      "metadata": {
        "id": "9YTeMF41rRGH"
      },
      "execution_count": null,
      "outputs": []
    },
    {
      "cell_type": "code",
      "source": [
        "box = plt.boxplot(customer_ratings)\n",
        "plt.title('Customer Ratings')\n",
        "plt.show()"
      ],
      "metadata": {
        "id": "nIYx4sdfro_F"
      },
      "execution_count": null,
      "outputs": []
    },
    {
      "cell_type": "code",
      "source": [
        "fig.savefig('plot.png')\n"
      ],
      "metadata": {
        "id": "KP8GsJB2rn2-"
      },
      "execution_count": null,
      "outputs": []
    }
  ]
}